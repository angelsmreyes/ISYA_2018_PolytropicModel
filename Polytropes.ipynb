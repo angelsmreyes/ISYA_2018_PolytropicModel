{
 "cells": [
  {
   "cell_type": "markdown",
   "metadata": {},
   "source": [
    "# Stellar Structure Models -> Polytropes"
   ]
  },
  {
   "cell_type": "code",
   "execution_count": 3,
   "metadata": {
    "collapsed": true
   },
   "outputs": [],
   "source": [
    "import matplotlib.pyplot as plt\n",
    "import numpy as np\n",
    "import math"
   ]
  },
  {
   "cell_type": "code",
   "execution_count": 4,
   "metadata": {
    "collapsed": true
   },
   "outputs": [],
   "source": [
    "%matplotlib inline"
   ]
  },
  {
   "cell_type": "markdown",
   "metadata": {},
   "source": [
    "### Constants values"
   ]
  },
  {
   "cell_type": "code",
   "execution_count": 5,
   "metadata": {
    "collapsed": true
   },
   "outputs": [],
   "source": [
    "Msun = 1.989e33 #sun mass [g]\n",
    "Rsun = 6.96e10 #sun radius [cm]\n",
    "n = 3 #polytropic index\n",
    "Rho = 1.41 #sun mean density [g/cm^3]\n",
    "X = 0.70 #hydrogen percentual\n",
    "Y = 0.28 #helium percentual \n",
    "Z = 0.02 #metals percentual\n",
    "Mi = 1.0/(2.0*X + 0.75*Y + 0.5*Z) #\n",
    "R = 8.315e7 #Universal gas constant [erg/mol/K]\n",
    "#T_EoS = 1.5e7 #\n",
    "G = 6.67259e-8 #gravitational constant [cm3/g/s^2] \n",
    "step = 1e-3 #arbitrary step\n",
    "kappa = 0.2*(1+X) #mean opacity [cm^2/g]\n",
    "c = 3e10 #light velocity [cm/s]\n",
    "sigma = 5.6704e-5 # radiation constant [erg/cm^2/s^1/K^4] \n",
    "mH = 1.6737236e-24 # mass of hydrogen [g]\n",
    "kb = 1.3807e-16 #Boltzmann's constant [cm^2 g s-2 K-1]"
   ]
  },
  {
   "cell_type": "markdown",
   "metadata": {},
   "source": [
    "### The Lane-Emden equation:\n",
    "\n",
    "\\begin{equation}\n",
    "\\frac{1}{z}\\frac{d}{dz}\\left( z^{2} \\frac{dw}{dz} \\right) + w^{n} = 0\n",
    "\\end{equation}"
   ]
  },
  {
   "cell_type": "markdown",
   "metadata": {},
   "source": [
    "### Initial conditionals"
   ]
  },
  {
   "cell_type": "code",
   "execution_count": 6,
   "metadata": {
    "collapsed": true
   },
   "outputs": [],
   "source": [
    "w0 = 1 #w(r=0) = 0\n",
    "dwdz0 = 0 #dw/dz(r=0) = 0\n",
    "z0 = 1e-4 #2/z --> infinite\n",
    "M0 = 0 #mass in the center\n",
    "\n",
    "#### Creating empty lists for each variable\n",
    "Z = [z0,0]\n",
    "W = [w0,0]\n",
    "dW = [dwdz0,0]"
   ]
  },
  {
   "cell_type": "markdown",
   "metadata": {},
   "source": [
    "### Lane-Emden equations in computacional language:\n",
    "\n",
    "\\begin{equation}\n",
    "\\left(\\frac{dw}{dz}\\right)_{i+1} = - \\Delta z \\left( \\frac{2}{z} \\frac{dw}{dz} + w^{n} \\right)_i + \\left(\\frac{dw}{dz}\\right)_i\n",
    "\\end{equation}\n",
    "\n",
    "&\n",
    "\n",
    "\\begin{equation}\n",
    "w_{i+1} = w_{i} + \\Delta z \\left(\\frac{dw}{dz}_{i+1} \\right)\n",
    "\\end{equation}\n"
   ]
  },
  {
   "cell_type": "code",
   "execution_count": 7,
   "metadata": {
    "collapsed": true
   },
   "outputs": [],
   "source": [
    "#The loop below makes the loop of the equations above to solve the\n",
    "#Lane-Emden equations.The condition to stop is w --> 0, because it\n",
    "#is related to the\n",
    "#density of the star.\n",
    "\n",
    "i=0\n",
    "while W[i] >= 0:\n",
    "    dW[i+1] = - step*((2/Z[i])*(dW[i]) + (W[i]**n)) + dW[i]\n",
    "    W[i+1] = W[i] + step*dW[i]    \n",
    "    Z[i+1] = Z[i] + step    \n",
    "    dW.append(dW[i+1])\n",
    "    W.append(W[i+1])\n",
    "    Z.append(Z[i+1])\n",
    "    i += 1"
   ]
  },
  {
   "cell_type": "markdown",
   "metadata": {},
   "source": [
    "### Calculating the estimated radius of the Sun:\n",
    "\n",
    "We have $z~\\leftrightarrow~r$. \n",
    "When $w~\\rightarrow~0$, we have the polytropic radius, $z_n$, whereas $A~=~z_n/R_{sun}$"
   ]
  },
  {
   "cell_type": "code",
   "execution_count": 28,
   "metadata": {},
   "outputs": [
    {
     "data": {
      "text/plain": [
       "Text(0,0.5,'$\\\\omega(z)$')"
      ]
     },
     "execution_count": 28,
     "metadata": {},
     "output_type": "execute_result"
    },
    {
     "data": {
      "image/png": "[encoded data removed]",
      "text/plain": [
       "<matplotlib.figure.Figure at 0x7fbdaa2624a8>"
      ]
     },
     "metadata": {},
     "output_type": "display_data"
    }
   ],
   "source": [
    "#Plotting w(z) ~ z\n",
    "\n",
    "plt.plot(Z,W)\n",
    "plt.xlabel(r'z x $10^{10}$ (cm)',fontsize=16)\n",
    "plt.ylabel(r'$\\omega(z)$',fontsize=16)"
   ]
  },
  {
   "cell_type": "code",
   "execution_count": 9,
   "metadata": {},
   "outputs": [],
   "source": [
    "z3 = Z[-1] "
   ]
  },
  {
   "cell_type": "code",
   "execution_count": 11,
   "metadata": {},
   "outputs": [
    {
     "name": "stdout",
     "output_type": "stream",
     "text": [
      "The value of the constant A is 9.906752873564135e-11 cm^-1\n"
     ]
    }
   ],
   "source": [
    "A = z3/Rsun\n",
    "print('The value of the constant A is %s cm^-1' %A)"
   ]
  },
  {
   "cell_type": "code",
   "execution_count": 29,
   "metadata": {},
   "outputs": [],
   "source": [
    "#Listing  the values of the radius accordingly to the z\n",
    "r = [z/A for z in Z]"
   ]
  },
  {
   "cell_type": "markdown",
   "metadata": {},
   "source": [
    "### Central Density of the Sun & $\\rho(r)$\n",
    "\n",
    "From the Lane-Emden equation, we have the central density calculated as:\n",
    "\n",
    "\\begin{equation}\n",
    "\\rho_c = \\rho_{mean} \\left( \\left( \\frac{-3}{z} \\frac{dw}{dz} \\right)_{z = z_n} \\right) ^{-1}\n",
    "\\end{equation} \n",
    "\n",
    "And the density at each radius:\n",
    "\\begin{equation}\n",
    "\\rho(w) = \\rho_c w^{n}\n",
    "\\end{equation} "
   ]
  },
  {
   "cell_type": "code",
   "execution_count": 13,
   "metadata": {},
   "outputs": [
    {
     "name": "stdout",
     "output_type": "stream",
     "text": [
      "The central density is 76.38615051470848 g/cm/s^2\n"
     ]
    }
   ],
   "source": [
    "dw_dz_imax = dW[-1]*10**10 #dw/dz at z=zn\n",
    "rho_c = Rho / (-(3/(z3*10**10)*(dw_dz_imax)))\n",
    "print(\"The central density is %s g/cm/s^2\" %rho_c)"
   ]
  },
  {
   "cell_type": "code",
   "execution_count": 14,
   "metadata": {
    "collapsed": true
   },
   "outputs": [],
   "source": [
    "##The density for each radius\n",
    "rho_r = [rho_c*(w**n) for w in W]"
   ]
  },
  {
   "cell_type": "code",
   "execution_count": 137,
   "metadata": {},
   "outputs": [
    {
     "data": {
      "text/plain": [
       "Text(0,0.5,'$\\\\rho(r)$ $[g/cm/s^2]$')"
      ]
     },
     "execution_count": 137,
     "metadata": {},
     "output_type": "execute_result"
    },
    {
     "data": {
      "image/png": "[encoded data removed]",
      "text/plain": [
       "<matplotlib.figure.Figure at 0x7fbda64bb5f8>"
      ]
     },
     "metadata": {},
     "output_type": "display_data"
    }
   ],
   "source": [
    "plt.plot(r[1:],rho_r[1:])\n",
    "plt.xlabel(r'r $[cm]$',fontsize=16)\n",
    "plt.axhline(y=rho_c, color = 'k', lw = 1, linestyle = 'dashed', label = r'$\\rho_c = $ %.2f $gcm^{-1}s^{-2}$' %rho_c )\n",
    "plt.legend(frameon=False)\n",
    "plt.ylabel(r'$\\rho(r)$ $[g/cm/s^2]$',fontsize=16)"
   ]
  },
  {
   "cell_type": "markdown",
   "metadata": {},
   "source": [
    "### Central Pressure of the Sun & P(r)\n",
    "\n",
    "From the polytropic equation of state, we have for the central pressure:\n",
    "\n",
    "\\begin{equation}\n",
    "P_c = K \\rho_c^{\\gamma}, ~\\gamma = 1 + \\frac{1}{n}\n",
    "\\end{equation} \n",
    "\n",
    "Where, for the polytropic constant K, we have:\n",
    "\n",
    "\\begin{equation}\n",
    "K = \\frac{\\pi G \\rho_c^{2/3}}{A^2}, ~A = \\frac{z_n}{R_{sun}}\n",
    "\\end{equation} \n",
    "\n",
    "And for the pressure at each radius, we have:\n",
    "\n",
    "\\begin{equation}\n",
    "P(w) = P_c w^{n+1}\n",
    "\\end{equation} \n",
    "\n"
   ]
  },
  {
   "cell_type": "code",
   "execution_count": 33,
   "metadata": {},
   "outputs": [
    {
     "name": "stdout",
     "output_type": "stream",
     "text": [
      "The value of the polytropic constant K is 384525138033124.25 cm^3/s^2/g^(1/3)\n"
     ]
    }
   ],
   "source": [
    "##For the polytropic constant, we have:\n",
    "K = np.pi*G*(rho_c**(2/3))/(A**2)\n",
    "print('The value of the polytropic constant K is %.2f cm^3/s^2/g^(1/3)' %K)"
   ]
  },
  {
   "cell_type": "code",
   "execution_count": 135,
   "metadata": {},
   "outputs": [
    {
     "name": "stdout",
     "output_type": "stream",
     "text": [
      "The value of the central pressure is 1.25E+17 g/cm/s^2.\n"
     ]
    }
   ],
   "source": [
    "#Using the polytropic equation\n",
    "gamma = 1 + 1/n\n",
    "P_c = K*((rho_c)**(gamma))\n",
    "print('The value of the central pressure is %.2E g/cm/s^2.' %P_c)"
   ]
  },
  {
   "cell_type": "code",
   "execution_count": 84,
   "metadata": {
    "collapsed": true
   },
   "outputs": [],
   "source": [
    "##The pressure for each radius\n",
    "P_r = [P_c*(w**(n+1)) for w in W]"
   ]
  },
  {
   "cell_type": "code",
   "execution_count": 134,
   "metadata": {},
   "outputs": [
    {
     "data": {
      "text/plain": [
       "Text(0,0.5,'P $[dyn$ $cm^{-2}]$')"
      ]
     },
     "execution_count": 134,
     "metadata": {},
     "output_type": "execute_result"
    },
    {
     "data": {
      "image/png": "[encoded data removed]",
      "text/plain": [
       "<matplotlib.figure.Figure at 0x7fbda8395c88>"
      ]
     },
     "metadata": {},
     "output_type": "display_data"
    }
   ],
   "source": [
    "plt.plot(r[1:],P_r[1:])\n",
    "plt.axhline(y= P_c, color = 'k', lw = 1, linestyle = 'dashed', label = r'$P_c = $ %.2E $dyn$ $cm^{-2}$' %P_c )\n",
    "plt.legend(frameon=False)\n",
    "plt.xlabel(r'r $[cm]$',fontsize=16)\n",
    "plt.ylabel(r'P $[dyn$ $cm^{-2}]$',fontsize=16)\n",
    "\n"
   ]
  },
  {
   "cell_type": "markdown",
   "metadata": {
    "collapsed": true
   },
   "source": [
    "### Calculating the estimate central temperature of the Sun\n",
    "\n",
    "We can calculate the central temperature throught the ideal gas equation:\n",
    "\n",
    "\\begin{equation}\n",
    "P = \\frac{T\\rho\\Re}{\\mu} \\Rightarrow T_c = \\frac{P_c\\mu}{\\rho_c\\Re}\n",
    "\\end{equation}"
   ]
  },
  {
   "cell_type": "code",
   "execution_count": 133,
   "metadata": {},
   "outputs": [
    {
     "name": "stdout",
     "output_type": "stream",
     "text": [
      "The central temperature of the sun is 1.21E+07 K.\n"
     ]
    }
   ],
   "source": [
    "#Using the ideal gas equation\n",
    "Tc = Mi*P_c/(R*rho_c)\n",
    "print('The central temperature of the sun is %.2E K.' %Tc)"
   ]
  },
  {
   "cell_type": "code",
   "execution_count": 105,
   "metadata": {
    "collapsed": true
   },
   "outputs": [],
   "source": [
    "##The temperature for each radius\n",
    "T_r = [(P_c/rho_c)*(Mi/R)*w for w in W]"
   ]
  },
  {
   "cell_type": "code",
   "execution_count": 132,
   "metadata": {},
   "outputs": [
    {
     "data": {
      "text/plain": [
       "Text(0,0.5,'T $[K]$')"
      ]
     },
     "execution_count": 132,
     "metadata": {},
     "output_type": "execute_result"
    },
    {
     "data": {
      "image/png": "[encoded data removed]",
      "text/plain": [
       "<matplotlib.figure.Figure at 0x7fbda8989710>"
      ]
     },
     "metadata": {},
     "output_type": "display_data"
    }
   ],
   "source": [
    "plt.plot(r[1:],T_r[1:])\n",
    "plt.axhline(y= Tc, color = 'k', lw = 1, linestyle = 'dashed', label = r'$T_c = $ %.2E $dyn$ $cm^{-2}$' %Tc )\n",
    "plt.legend(frameon = False)\n",
    "plt.xlabel(r'r $[cm]$',fontsize=16)\n",
    "plt.ylabel(r'T $[K]$',fontsize=16)"
   ]
  },
  {
   "cell_type": "markdown",
   "metadata": {},
   "source": [
    "## Mass(r)\n",
    "\n",
    "For the mass, we use the structure equation of continuity:\n",
    "\n",
    "\\begin{equation}\n",
    "\\frac{dM_r}{dr} = 4\\pi r^2\\rho\n",
    "\\end{equation}\n",
    "\n",
    "In a mathematical approach, we have:\n",
    "\n",
    "\\begin{equation}\n",
    "M_{i+1} = \\frac{\\Delta z}{A} 4 \\pi r^{2} \\rho_i + M_i\n",
    "\\end{equation}"
   ]
  },
  {
   "cell_type": "code",
   "execution_count": 36,
   "metadata": {},
   "outputs": [
    {
     "name": "stdout",
     "output_type": "stream",
     "text": [
      "The total Mass of the Sun is 1.9917039689132917e+33 g.\n"
     ]
    }
   ],
   "source": [
    "##The mass for each radius\n",
    "M_r = [0,0]\n",
    "\n",
    "for i in range(0,len(rho_r)-1):\n",
    "    M_r[i+1] = (step/A)*4*math.pi*rho_r[i]*(r[i]**2) + M_r[i]\n",
    "    M_r.append(M_r[i+1])\n",
    "\n",
    "print('The total Mass of the Sun is %s g.' %M_r[-1])"
   ]
  },
  {
   "cell_type": "code",
   "execution_count": 131,
   "metadata": {},
   "outputs": [
    {
     "data": {
      "text/plain": [
       "Text(0,0.5,'M $[g]$')"
      ]
     },
     "execution_count": 131,
     "metadata": {},
     "output_type": "execute_result"
    },
    {
     "data": {
      "image/png": "[encoded data removed]",
      "text/plain": [
       "<matplotlib.figure.Figure at 0x7fbda66c3438>"
      ]
     },
     "metadata": {},
     "output_type": "display_data"
    }
   ],
   "source": [
    "plt.plot(r[:],M_r[:-1])\n",
    "plt.axhline(y= M_r[-1], color = 'k', lw = 1, linestyle = 'dashed', label = r'$M_{\\odot} = $ %.2E g' %M_r[-1])\n",
    "plt.legend(frameon = False)\n",
    "plt.xlabel(r'r $[cm]$',fontsize=16)\n",
    "plt.ylabel(r'M $[g]$',fontsize=16)"
   ]
  },
  {
   "cell_type": "markdown",
   "metadata": {},
   "source": [
    "### Luminosity\n",
    "\n",
    "For luminosity, we use the radiation pressure equilibrium equation:\n",
    "\n",
    "\\begin{equation}\n",
    "\\frac{dL_r}{dr} = 4\\pi r^2\\rho \\epsilon\n",
    "\\end{equation}\n",
    "\n",
    "In a mathematical approach, we have:\n",
    "\n",
    "\\begin{equation}\n",
    "L_{i+1} = \\frac{\\Delta z}{A} 4 \\pi r^{2} \\rho_i \\epsilon + L_i\n",
    "\\end{equation}"
   ]
  },
  {
   "cell_type": "code",
   "execution_count": 26,
   "metadata": {},
   "outputs": [
    {
     "name": "stdout",
     "output_type": "stream",
     "text": [
      "Solar luminosity is 1.9917039689132917e+33 ergs/cm^2/s\n"
     ]
    }
   ],
   "source": [
    "##The Luminosity for each radius\n",
    "L_r = [0,0]\n",
    "eff=10\n",
    "\n",
    "for i in range(0,len(rho_r)-1):\n",
    "    L_r[i+1] = (step/A)*4*math.pi*rho_r[i]*(r[i]**2)*eff + L_r[i]\n",
    "    L_r.append(M_r[i+1])\n",
    "\n",
    "print(\"Solar luminosity is %s ergs/cm^2/s\" %L_r[-1])"
   ]
  },
  {
   "cell_type": "code",
   "execution_count": 130,
   "metadata": {},
   "outputs": [
    {
     "data": {
      "text/plain": [
       "Text(0,0.5,'L $[ergs$ $cm^{-2}$ $s^{-1}]$')"
      ]
     },
     "execution_count": 130,
     "metadata": {},
     "output_type": "execute_result"
    },
    {
     "data": {
      "image/png": "[encoded data removed]",
      "text/plain": [
       "<matplotlib.figure.Figure at 0x7fbda656cef0>"
      ]
     },
     "metadata": {},
     "output_type": "display_data"
    }
   ],
   "source": [
    "plt.plot(r[:],L_r[:-1])\n",
    "plt.axhline(y= L_r[-2], color = 'k', lw = 1, linestyle = 'dashed', label = r'$L_{\\odot} = $ %.2E $ergs$ $cm^{-2}$ $s^{-1}$' %L_r[-2])\n",
    "plt.legend(frameon=False)\n",
    "plt.xlabel(r'r $[cm]$',fontsize=16)\n",
    "plt.ylabel(r'L $[ergs$ $cm^{-2}$ $s^{-1}]$',fontsize=16)"
   ]
  },
  {
   "cell_type": "markdown",
   "metadata": {},
   "source": [
    "## $\\frac{dT}{dr}$ "
   ]
  },
  {
   "cell_type": "code",
   "execution_count": null,
   "metadata": {
    "collapsed": true
   },
   "outputs": [],
   "source": [
    "dT = [0,0]\n",
    "\n",
    "for i in range(0,len(rho_r)-1):\n",
    "    L_r[i+1] = (step/A)*4*math.pi*rho_r[i]*(r[i]**2)*eff + L_r[i]\n",
    "    L_r.append(M_r[i+1])"
   ]
  },
  {
   "cell_type": "code",
   "execution_count": null,
   "metadata": {},
   "outputs": [],
   "source": [
    "plt.plot(r[1:],L_r[1:])\n",
    "plt.xlabel('r [cm]',fontsize=16)\n",
    "plt.ylabel('P [?]',fontsize=16)"
   ]
  },
  {
   "cell_type": "code",
   "execution_count": null,
   "metadata": {
    "collapsed": true
   },
   "outputs": [],
   "source": []
  }
 ],
 "metadata": {
  "kernelspec": {
   "display_name": "Python 3",
   "language": "python",
   "name": "python3"
  },
  "language_info": {
   "codemirror_mode": {
    "name": "ipython",
    "version": 3
   },
   "file_extension": ".py",
   "mimetype": "text/x-python",
   "name": "python",
   "nbconvert_exporter": "python",
   "pygments_lexer": "ipython3",
   "version": "3.6.3"
  }
 },
 "nbformat": 4,
 "nbformat_minor": 2
}
