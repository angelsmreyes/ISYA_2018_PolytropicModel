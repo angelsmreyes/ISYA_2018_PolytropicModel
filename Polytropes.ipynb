{
 "cells": [
  {
   "cell_type": "markdown",
   "metadata": {},
   "source": [
    "# Writting polytropic models"
   ]
  },
  {
   "cell_type": "code",
   "execution_count": 2,
   "metadata": {
    "collapsed": true
   },
   "outputs": [],
   "source": [
    "import matplotlib.pyplot as plt\n",
    "import numpy as np\n",
    "import math"
   ]
  },
  {
   "cell_type": "code",
   "execution_count": 3,
   "metadata": {
    "collapsed": true
   },
   "outputs": [],
   "source": [
    "%matplotlib inline"
   ]
  },
  {
   "cell_type": "markdown",
   "metadata": {},
   "source": [
    "### Constants values"
   ]
  },
  {
   "cell_type": "code",
   "execution_count": 4,
   "metadata": {
    "collapsed": true
   },
   "outputs": [],
   "source": [
    "Msun = 1.989e33 #sun mass [g]\n",
    "Rsun = 6.96e10 #sun radius [cm]\n",
    "n = 3 #polytropic index\n",
    "Rho = 1.41 #sun mean density [g/cm^3]\n",
    "X = 0.7 #hydrogen percentual\n",
    "Y = 0.3 #helium percentual \n",
    "Z = 0.0 #metals percentual\n",
    "Mi = 1.0/(2.0*X + 0.75*Y + 0.5*Z) #\n",
    "R = 8.315e7 # [erg/K/g]\n",
    "T_EoS = 1.5e7 #\n",
    "G = 6.67259e-8 #gravitational constant [cm3/g/s^2] \n",
    "step = 1e-6 #arbitrary step"
   ]
  },
  {
   "cell_type": "markdown",
   "metadata": {},
   "source": [
    "### Initial conditionals"
   ]
  },
  {
   "cell_type": "code",
   "execution_count": 5,
   "metadata": {
    "collapsed": true
   },
   "outputs": [],
   "source": [
    "w0 = 1 #w(r=0) = 0\n",
    "dwdz0 = 0 #dw/dz(r=0) = 0\n",
    "z0 = 1e-4 #2/z --> infinite\n",
    "\n",
    "#### Creating empty lists for each variable\n",
    "Z = [z0,0]\n",
    "W = [w0,0]\n",
    "dW = [dwdz0,0]"
   ]
  },
  {
   "cell_type": "markdown",
   "metadata": {},
   "source": [
    "## write the equation here"
   ]
  },
  {
   "cell_type": "code",
   "execution_count": 6,
   "metadata": {
    "collapsed": true
   },
   "outputs": [],
   "source": [
    "i=0\n",
    "while W[i] >= 0:\n",
    "    dW[i+1] = - step*((2/Z[i])*(dW[i]) + (W[i]**n)) + dW[i]\n",
    "    W[i+1] = W[i] + step*dW[i]    \n",
    "    Z[i+1] = Z[i] + step    \n",
    "    dW.append(dW[i+1])\n",
    "    W.append(W[i+1])\n",
    "    Z.append(Z[i+1])\n",
    "    i += 1"
   ]
  },
  {
   "cell_type": "markdown",
   "metadata": {},
   "source": [
    "### Calculating the estimated radius of the Sun"
   ]
  },
  {
   "cell_type": "code",
   "execution_count": 7,
   "metadata": {},
   "outputs": [
    {
     "data": {
      "text/plain": [
       "Text(0,0.5,'$\\\\omega(z)$')"
      ]
     },
     "execution_count": 7,
     "metadata": {},
     "output_type": "execute_result"
    },
    {
     "data": {
      "image/png": "[encoded data removed]",
      "text/plain": [
       "<matplotlib.figure.Figure at 0x7fa29a975d68>"
      ]
     },
     "metadata": {},
     "output_type": "display_data"
    }
   ],
   "source": [
    "#Gráfico de w(z) versus z\n",
    "\n",
    "plt.plot(Z,W)\n",
    "plt.xlabel(r'z x $10^{10}$ (cm)',fontsize=16)\n",
    "plt.ylabel(r'$\\omega(z)$',fontsize=16)"
   ]
  },
  {
   "cell_type": "code",
   "execution_count": 8,
   "metadata": {},
   "outputs": [
    {
     "data": {
      "text/plain": [
       "68968470006.10123"
      ]
     },
     "execution_count": 8,
     "metadata": {},
     "output_type": "execute_result"
    }
   ],
   "source": [
    "z3 = Z[-1] * 10**10\n",
    "z3"
   ]
  },
  {
   "cell_type": "markdown",
   "metadata": {},
   "source": [
    "### Calculating the estimate central density of the Sun"
   ]
  },
  {
   "cell_type": "code",
   "execution_count": 9,
   "metadata": {},
   "outputs": [
    {
     "name": "stdout",
     "output_type": "stream",
     "text": [
      "-424297514.60865957\n",
      "76.39729149194976\n"
     ]
    }
   ],
   "source": [
    "dw_dz_imax = dW[-1]*10**10\n",
    "print(dw_dz_imax)\n",
    "rho_c = Rho / (-(3/(z3)*(dw_dz_imax)))\n",
    "print(rho_c)"
   ]
  },
  {
   "cell_type": "markdown",
   "metadata": {},
   "source": [
    "### Calculating the estimate central pressure of the Sun"
   ]
  },
  {
   "cell_type": "code",
   "execution_count": 10,
   "metadata": {},
   "outputs": [
    {
     "name": "stdout",
     "output_type": "stream",
     "text": [
      "0.9909262931911096\n"
     ]
    }
   ],
   "source": [
    "A = z3/Rsun\n",
    "alpha = 1/A\n",
    "print(A)"
   ]
  },
  {
   "cell_type": "code",
   "execution_count": 11,
   "metadata": {},
   "outputs": [
    {
     "name": "stdout",
     "output_type": "stream",
     "text": [
      "3.840724403238854e-06\n"
     ]
    }
   ],
   "source": [
    "theta_n = (-(z3**2)*dw_dz_imax)\n",
    "Nn = (((4*math.pi)**(1/n))/(n+1))*(theta_n**((1-n)/n))*(z3**((n-3)/n))\n",
    "K = Nn * G * (Msun**((n-1)/n)) * (Rsun**((3-n)/n))\n",
    "#K = np.pi*G*(rho_c**(2/3))/(A**2)\n",
    "print(K)"
   ]
  },
  {
   "cell_type": "code",
   "execution_count": 12,
   "metadata": {
    "collapsed": true
   },
   "outputs": [],
   "source": [
    "K = 6.135e14"
   ]
  },
  {
   "cell_type": "code",
   "execution_count": 13,
   "metadata": {},
   "outputs": [
    {
     "name": "stdout",
     "output_type": "stream",
     "text": [
      "Pressão central do Sol = 1.9887728515347712e+17 g/cm/s2\n"
     ]
    }
   ],
   "source": [
    "#Using the polytropic equation\n",
    "gamma = 1 + 1/n\n",
    "P_c = K*((rho_c)**(gamma))\n",
    "#P = [K*d**(1+1/3) for d in density]\n",
    "\n",
    "print('Pressão central do Sol = '+str(P_c)+' g/cm/s2')"
   ]
  },
  {
   "cell_type": "markdown",
   "metadata": {
    "collapsed": true
   },
   "source": [
    "### Calculating the estimate central temperature of the Sun"
   ]
  },
  {
   "cell_type": "code",
   "execution_count": 14,
   "metadata": {},
   "outputs": [
    {
     "name": "stdout",
     "output_type": "stream",
     "text": [
      "Temperatura central do Sol= 19266002.048956476 K\n"
     ]
    }
   ],
   "source": [
    "#Using the ideal gas equation\n",
    "Tc = Mi*P_c/(R*rho_c)\n",
    "#T = [Mi*p/(R*d) for p,d in zip(P,density)]\n",
    "\n",
    "print('Temperatura central do Sol= '+str(Tc)+' K')"
   ]
  },
  {
   "cell_type": "markdown",
   "metadata": {},
   "source": [
    "##### Plots"
   ]
  },
  {
   "cell_type": "code",
   "execution_count": 15,
   "metadata": {
    "collapsed": true
   },
   "outputs": [],
   "source": [
    "r = [z/A for z in Z]\n",
    "rho_r = [rho_c*(w**n) for w in W]\n",
    "P_r = [P_c*(w**n+1) for w in W]\n",
    "T_r = [(P_c/rho_c)*(Mi/R)*w for w in W]"
   ]
  },
  {
   "cell_type": "code",
   "execution_count": 16,
   "metadata": {},
   "outputs": [
    {
     "data": {
      "text/plain": [
       "Text(0,0.5,'$\\\\rho\\\\ [gcm^{-3}]$')"
      ]
     },
     "execution_count": 16,
     "metadata": {},
     "output_type": "execute_result"
    },
    {
     "data": {
      "image/png": "[encoded data removed]",
      "text/plain": [
       "<matplotlib.figure.Figure at 0x7fa277d6eb00>"
      ]
     },
     "metadata": {},
     "output_type": "display_data"
    }
   ],
   "source": [
    "plt.plot(r[1:],rho_r[1:])\n",
    "plt.xlabel('r [cm]',fontsize=16)\n",
    "plt.ylabel(r'$\\rho\\ [gcm^{-3}]$',fontsize=16)"
   ]
  },
  {
   "cell_type": "code",
   "execution_count": 17,
   "metadata": {},
   "outputs": [
    {
     "data": {
      "text/plain": [
       "Text(0,0.5,'T [K]')"
      ]
     },
     "execution_count": 17,
     "metadata": {},
     "output_type": "execute_result"
    },
    {
     "data": {
      "image/png": "[encoded data removed]",
      "text/plain": [
       "<matplotlib.figure.Figure at 0x7fa21d291ac8>"
      ]
     },
     "metadata": {},
     "output_type": "display_data"
    }
   ],
   "source": [
    "plt.plot(r[1:],T_r[1:])\n",
    "plt.xlabel('r [cm]',fontsize=16)\n",
    "plt.ylabel('T [K]',fontsize=16)"
   ]
  },
  {
   "cell_type": "code",
   "execution_count": 18,
   "metadata": {},
   "outputs": [
    {
     "data": {
      "text/plain": [
       "Text(0,0.5,'P [?]')"
      ]
     },
     "execution_count": 18,
     "metadata": {},
     "output_type": "execute_result"
    },
    {
     "data": {
      "image/png": "[encoded data removed]",
      "text/plain": [
       "<matplotlib.figure.Figure at 0x7fa21d295358>"
      ]
     },
     "metadata": {},
     "output_type": "display_data"
    }
   ],
   "source": [
    "plt.plot(r[1:],P_r[1:])\n",
    "plt.xlabel('r [cm]',fontsize=16)\n",
    "plt.ylabel('P [?]',fontsize=16)"
   ]
  },
  {
   "cell_type": "code",
   "execution_count": null,
   "metadata": {
    "collapsed": true
   },
   "outputs": [],
   "source": []
  }
 ],
 "metadata": {
  "kernelspec": {
   "display_name": "Python 3",
   "language": "python",
   "name": "python3"
  },
  "language_info": {
   "codemirror_mode": {
    "name": "ipython",
    "version": 3
   },
   "file_extension": ".py",
   "mimetype": "text/x-python",
   "name": "python",
   "nbconvert_exporter": "python",
   "pygments_lexer": "ipython3",
   "version": "3.6.3"
  }
 },
 "nbformat": 4,
 "nbformat_minor": 2
}
